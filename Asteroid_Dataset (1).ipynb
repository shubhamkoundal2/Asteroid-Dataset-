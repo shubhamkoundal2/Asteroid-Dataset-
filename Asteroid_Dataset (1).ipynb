{
  "nbformat": 4,
  "nbformat_minor": 0,
  "metadata": {
    "colab": {
      "provenance": []
    },
    "kernelspec": {
      "name": "python3",
      "display_name": "Python 3"
    },
    "language_info": {
      "name": "python"
    }
  },
  "cells": [
    {
      "cell_type": "markdown",
      "source": [
        "## **About the dataset**\n",
        "The dataset contains information about celestial bodies, including asteroids and other objects in our solar system. It provides various attributes such as the object's ID, name, prefix, whether it is a near-Earth object (NEO) or potentially hazardous (PHA), its absolute magnitude (H), diameter, albedo, and other orbital parameters.\n",
        "\n",
        "The dataset offers valuable insights into the characteristics and classifications of celestial bodies. It includes data on different classes of objects, such as Main Belt Asteroids (MBA) and Potentially Hazardous Asteroids (PHA), allowing for the analysis of their distributions and properties. The dataset also provides information on the uncertainty of orbital parameters, represented by the sigma values.\n",
        "\n",
        "With this dataset, one can explore and visualize the distribution of diameters, albedo, and absolute magnitudes across different classes of celestial bodies. It enables the identification of outliers and the examination of correlations between attributes, such as diameter and albedo. Additionally, the dataset allows for the identification and visualization of the most common classes of celestial bodies present.\n",
        "\n",
        "Overall, this dataset serves as a valuable resource for conducting data analysis and gaining insights into the characteristics and classifications of celestial bodies in our solar system."
      ],
      "metadata": {
        "id": "obLfX2fxMVdj"
      }
    },
    {
      "cell_type": "code",
      "execution_count": 1,
      "metadata": {
        "id": "AiKNGCSetY8C"
      },
      "outputs": [],
      "source": [
        "import pandas as pd\n",
        "import numpy as np\n",
        "import matplotlib.pyplot as plt\n",
        "import seaborn as sns"
      ]
    },
    {
      "cell_type": "code",
      "source": [
        "df = pd.read_csv(\"/content/dataset.csv\")"
      ],
      "metadata": {
        "id": "TgtU77TnvHCA"
      },
      "execution_count": 2,
      "outputs": []
    },
    {
      "cell_type": "code",
      "source": [
        "df.head()"
      ],
      "metadata": {
        "colab": {
          "base_uri": "https://localhost:8080/",
          "height": 386
        },
        "id": "3vnnaQztvOVi",
        "outputId": "bca0f464-ae15-4dcb-f2b6-0260172c37d3"
      },
      "execution_count": 3,
      "outputs": [
        {
          "output_type": "execute_result",
          "data": {
            "text/plain": [
              "         id    spkid       full_name  pdes     name  prefix neo pha     H  \\\n",
              "0  a0000001  2000001         1 Ceres     1    Ceres     NaN   N   N  3.40   \n",
              "1  a0000002  2000002        2 Pallas     2   Pallas     NaN   N   N  4.20   \n",
              "2  a0000003  2000003          3 Juno     3     Juno     NaN   N   N  5.33   \n",
              "3  a0000004  2000004         4 Vesta     4    Vesta     NaN   N   N  3.00   \n",
              "4  a0000005  2000005       5 Astraea     5  Astraea     NaN   N   N  6.90   \n",
              "\n",
              "   diameter  ...       sigma_i      sigma_om       sigma_w      sigma_ma  \\\n",
              "0   939.400  ...  4.608900e-09  6.168800e-08  6.624800e-08  7.820700e-09   \n",
              "1   545.000  ...  3.469400e-06  6.272400e-06  9.128200e-06  8.859100e-06   \n",
              "2   246.596  ...  3.223100e-06  1.664600e-05  1.772100e-05  8.110400e-06   \n",
              "3   525.400  ...  2.170600e-07  3.880800e-07  1.789300e-07  1.206800e-06   \n",
              "4   106.699  ...  2.740800e-06  2.894900e-05  2.984200e-05  8.303800e-06   \n",
              "\n",
              "       sigma_ad       sigma_n      sigma_tp     sigma_per  class      rms  \n",
              "0  1.111300e-11  1.196500e-12  3.782900e-08  9.415900e-09    MBA  0.43301  \n",
              "1  4.961300e-09  4.653600e-10  4.078700e-05  3.680700e-06    MBA  0.35936  \n",
              "2  4.363900e-09  4.413400e-10  3.528800e-05  3.107200e-06    MBA  0.33848  \n",
              "3  1.648600e-09  2.612500e-10  4.103700e-06  1.274900e-06    MBA  0.39980  \n",
              "4  4.729000e-09  5.522700e-10  3.474300e-05  3.490500e-06    MBA  0.52191  \n",
              "\n",
              "[5 rows x 45 columns]"
            ],
            "text/html": [
              "\n",
              "  <div id=\"df-641bcf0a-aafb-40e6-b36e-57573422c4cd\">\n",
              "    <div class=\"colab-df-container\">\n",
              "      <div>\n",
              "<style scoped>\n",
              "    .dataframe tbody tr th:only-of-type {\n",
              "        vertical-align: middle;\n",
              "    }\n",
              "\n",
              "    .dataframe tbody tr th {\n",
              "        vertical-align: top;\n",
              "    }\n",
              "\n",
              "    .dataframe thead th {\n",
              "        text-align: right;\n",
              "    }\n",
              "</style>\n",
              "<table border=\"1\" class=\"dataframe\">\n",
              "  <thead>\n",
              "    <tr style=\"text-align: right;\">\n",
              "      <th></th>\n",
              "      <th>id</th>\n",
              "      <th>spkid</th>\n",
              "      <th>full_name</th>\n",
              "      <th>pdes</th>\n",
              "      <th>name</th>\n",
              "      <th>prefix</th>\n",
              "      <th>neo</th>\n",
              "      <th>pha</th>\n",
              "      <th>H</th>\n",
              "      <th>diameter</th>\n",
              "      <th>...</th>\n",
              "      <th>sigma_i</th>\n",
              "      <th>sigma_om</th>\n",
              "      <th>sigma_w</th>\n",
              "      <th>sigma_ma</th>\n",
              "      <th>sigma_ad</th>\n",
              "      <th>sigma_n</th>\n",
              "      <th>sigma_tp</th>\n",
              "      <th>sigma_per</th>\n",
              "      <th>class</th>\n",
              "      <th>rms</th>\n",
              "    </tr>\n",
              "  </thead>\n",
              "  <tbody>\n",
              "    <tr>\n",
              "      <th>0</th>\n",
              "      <td>a0000001</td>\n",
              "      <td>2000001</td>\n",
              "      <td>1 Ceres</td>\n",
              "      <td>1</td>\n",
              "      <td>Ceres</td>\n",
              "      <td>NaN</td>\n",
              "      <td>N</td>\n",
              "      <td>N</td>\n",
              "      <td>3.40</td>\n",
              "      <td>939.400</td>\n",
              "      <td>...</td>\n",
              "      <td>4.608900e-09</td>\n",
              "      <td>6.168800e-08</td>\n",
              "      <td>6.624800e-08</td>\n",
              "      <td>7.820700e-09</td>\n",
              "      <td>1.111300e-11</td>\n",
              "      <td>1.196500e-12</td>\n",
              "      <td>3.782900e-08</td>\n",
              "      <td>9.415900e-09</td>\n",
              "      <td>MBA</td>\n",
              "      <td>0.43301</td>\n",
              "    </tr>\n",
              "    <tr>\n",
              "      <th>1</th>\n",
              "      <td>a0000002</td>\n",
              "      <td>2000002</td>\n",
              "      <td>2 Pallas</td>\n",
              "      <td>2</td>\n",
              "      <td>Pallas</td>\n",
              "      <td>NaN</td>\n",
              "      <td>N</td>\n",
              "      <td>N</td>\n",
              "      <td>4.20</td>\n",
              "      <td>545.000</td>\n",
              "      <td>...</td>\n",
              "      <td>3.469400e-06</td>\n",
              "      <td>6.272400e-06</td>\n",
              "      <td>9.128200e-06</td>\n",
              "      <td>8.859100e-06</td>\n",
              "      <td>4.961300e-09</td>\n",
              "      <td>4.653600e-10</td>\n",
              "      <td>4.078700e-05</td>\n",
              "      <td>3.680700e-06</td>\n",
              "      <td>MBA</td>\n",
              "      <td>0.35936</td>\n",
              "    </tr>\n",
              "    <tr>\n",
              "      <th>2</th>\n",
              "      <td>a0000003</td>\n",
              "      <td>2000003</td>\n",
              "      <td>3 Juno</td>\n",
              "      <td>3</td>\n",
              "      <td>Juno</td>\n",
              "      <td>NaN</td>\n",
              "      <td>N</td>\n",
              "      <td>N</td>\n",
              "      <td>5.33</td>\n",
              "      <td>246.596</td>\n",
              "      <td>...</td>\n",
              "      <td>3.223100e-06</td>\n",
              "      <td>1.664600e-05</td>\n",
              "      <td>1.772100e-05</td>\n",
              "      <td>8.110400e-06</td>\n",
              "      <td>4.363900e-09</td>\n",
              "      <td>4.413400e-10</td>\n",
              "      <td>3.528800e-05</td>\n",
              "      <td>3.107200e-06</td>\n",
              "      <td>MBA</td>\n",
              "      <td>0.33848</td>\n",
              "    </tr>\n",
              "    <tr>\n",
              "      <th>3</th>\n",
              "      <td>a0000004</td>\n",
              "      <td>2000004</td>\n",
              "      <td>4 Vesta</td>\n",
              "      <td>4</td>\n",
              "      <td>Vesta</td>\n",
              "      <td>NaN</td>\n",
              "      <td>N</td>\n",
              "      <td>N</td>\n",
              "      <td>3.00</td>\n",
              "      <td>525.400</td>\n",
              "      <td>...</td>\n",
              "      <td>2.170600e-07</td>\n",
              "      <td>3.880800e-07</td>\n",
              "      <td>1.789300e-07</td>\n",
              "      <td>1.206800e-06</td>\n",
              "      <td>1.648600e-09</td>\n",
              "      <td>2.612500e-10</td>\n",
              "      <td>4.103700e-06</td>\n",
              "      <td>1.274900e-06</td>\n",
              "      <td>MBA</td>\n",
              "      <td>0.39980</td>\n",
              "    </tr>\n",
              "    <tr>\n",
              "      <th>4</th>\n",
              "      <td>a0000005</td>\n",
              "      <td>2000005</td>\n",
              "      <td>5 Astraea</td>\n",
              "      <td>5</td>\n",
              "      <td>Astraea</td>\n",
              "      <td>NaN</td>\n",
              "      <td>N</td>\n",
              "      <td>N</td>\n",
              "      <td>6.90</td>\n",
              "      <td>106.699</td>\n",
              "      <td>...</td>\n",
              "      <td>2.740800e-06</td>\n",
              "      <td>2.894900e-05</td>\n",
              "      <td>2.984200e-05</td>\n",
              "      <td>8.303800e-06</td>\n",
              "      <td>4.729000e-09</td>\n",
              "      <td>5.522700e-10</td>\n",
              "      <td>3.474300e-05</td>\n",
              "      <td>3.490500e-06</td>\n",
              "      <td>MBA</td>\n",
              "      <td>0.52191</td>\n",
              "    </tr>\n",
              "  </tbody>\n",
              "</table>\n",
              "<p>5 rows × 45 columns</p>\n",
              "</div>\n",
              "      <button class=\"colab-df-convert\" onclick=\"convertToInteractive('df-641bcf0a-aafb-40e6-b36e-57573422c4cd')\"\n",
              "              title=\"Convert this dataframe to an interactive table.\"\n",
              "              style=\"display:none;\">\n",
              "        \n",
              "  <svg xmlns=\"http://www.w3.org/2000/svg\" height=\"24px\"viewBox=\"0 0 24 24\"\n",
              "       width=\"24px\">\n",
              "    <path d=\"M0 0h24v24H0V0z\" fill=\"none\"/>\n",
              "    <path d=\"M18.56 5.44l.94 2.06.94-2.06 2.06-.94-2.06-.94-.94-2.06-.94 2.06-2.06.94zm-11 1L8.5 8.5l.94-2.06 2.06-.94-2.06-.94L8.5 2.5l-.94 2.06-2.06.94zm10 10l.94 2.06.94-2.06 2.06-.94-2.06-.94-.94-2.06-.94 2.06-2.06.94z\"/><path d=\"M17.41 7.96l-1.37-1.37c-.4-.4-.92-.59-1.43-.59-.52 0-1.04.2-1.43.59L10.3 9.45l-7.72 7.72c-.78.78-.78 2.05 0 2.83L4 21.41c.39.39.9.59 1.41.59.51 0 1.02-.2 1.41-.59l7.78-7.78 2.81-2.81c.8-.78.8-2.07 0-2.86zM5.41 20L4 18.59l7.72-7.72 1.47 1.35L5.41 20z\"/>\n",
              "  </svg>\n",
              "      </button>\n",
              "      \n",
              "  <style>\n",
              "    .colab-df-container {\n",
              "      display:flex;\n",
              "      flex-wrap:wrap;\n",
              "      gap: 12px;\n",
              "    }\n",
              "\n",
              "    .colab-df-convert {\n",
              "      background-color: #E8F0FE;\n",
              "      border: none;\n",
              "      border-radius: 50%;\n",
              "      cursor: pointer;\n",
              "      display: none;\n",
              "      fill: #1967D2;\n",
              "      height: 32px;\n",
              "      padding: 0 0 0 0;\n",
              "      width: 32px;\n",
              "    }\n",
              "\n",
              "    .colab-df-convert:hover {\n",
              "      background-color: #E2EBFA;\n",
              "      box-shadow: 0px 1px 2px rgba(60, 64, 67, 0.3), 0px 1px 3px 1px rgba(60, 64, 67, 0.15);\n",
              "      fill: #174EA6;\n",
              "    }\n",
              "\n",
              "    [theme=dark] .colab-df-convert {\n",
              "      background-color: #3B4455;\n",
              "      fill: #D2E3FC;\n",
              "    }\n",
              "\n",
              "    [theme=dark] .colab-df-convert:hover {\n",
              "      background-color: #434B5C;\n",
              "      box-shadow: 0px 1px 3px 1px rgba(0, 0, 0, 0.15);\n",
              "      filter: drop-shadow(0px 1px 2px rgba(0, 0, 0, 0.3));\n",
              "      fill: #FFFFFF;\n",
              "    }\n",
              "  </style>\n",
              "\n",
              "      <script>\n",
              "        const buttonEl =\n",
              "          document.querySelector('#df-641bcf0a-aafb-40e6-b36e-57573422c4cd button.colab-df-convert');\n",
              "        buttonEl.style.display =\n",
              "          google.colab.kernel.accessAllowed ? 'block' : 'none';\n",
              "\n",
              "        async function convertToInteractive(key) {\n",
              "          const element = document.querySelector('#df-641bcf0a-aafb-40e6-b36e-57573422c4cd');\n",
              "          const dataTable =\n",
              "            await google.colab.kernel.invokeFunction('convertToInteractive',\n",
              "                                                     [key], {});\n",
              "          if (!dataTable) return;\n",
              "\n",
              "          const docLinkHtml = 'Like what you see? Visit the ' +\n",
              "            '<a target=\"_blank\" href=https://colab.research.google.com/notebooks/data_table.ipynb>data table notebook</a>'\n",
              "            + ' to learn more about interactive tables.';\n",
              "          element.innerHTML = '';\n",
              "          dataTable['output_type'] = 'display_data';\n",
              "          await google.colab.output.renderOutput(dataTable, element);\n",
              "          const docLink = document.createElement('div');\n",
              "          docLink.innerHTML = docLinkHtml;\n",
              "          element.appendChild(docLink);\n",
              "        }\n",
              "      </script>\n",
              "    </div>\n",
              "  </div>\n",
              "  "
            ]
          },
          "metadata": {},
          "execution_count": 3
        }
      ]
    },
    {
      "cell_type": "code",
      "source": [
        "df.tail()"
      ],
      "metadata": {
        "colab": {
          "base_uri": "https://localhost:8080/",
          "height": 404
        },
        "id": "Zxu4TzUv06Wf",
        "outputId": "d8f51b67-9409-41b9-80af-488615e38648"
      },
      "execution_count": 4,
      "outputs": [
        {
          "output_type": "execute_result",
          "data": {
            "text/plain": [
              "             id    spkid                        full_name   pdes  \\\n",
              "50862  a0050863  2050863                 50863 (2000 GN1)  50863   \n",
              "50863  a0050864  2050864                 50864 (2000 GM2)  50864   \n",
              "50864  a0050865  2050865                 50865 (2000 GU2)  50865   \n",
              "50865  a0050866  2050866   50866 Davidesprizzi (2000 GX3)  50866   \n",
              "50866  a0050867  2050867                 50867 (2000 GM4)  50867   \n",
              "\n",
              "                name  prefix neo pha     H  diameter  ...   sigma_i  sigma_om  \\\n",
              "50862            NaN     NaN   N   N  14.6     3.898  ...  0.000005  0.000013   \n",
              "50863            NaN     NaN   N   N  13.1     8.518  ...  0.000004  0.000021   \n",
              "50864            NaN     NaN   N   N  14.8       NaN  ...  0.000003  0.000032   \n",
              "50865  Davidesprizzi     NaN   N   N  13.2     6.293  ...  0.000003  0.000018   \n",
              "50866            NaN     NaN   N   N  15.0       NaN  ...       NaN       NaN   \n",
              "\n",
              "        sigma_w  sigma_ma      sigma_ad       sigma_n  sigma_tp  sigma_per  \\\n",
              "50862  0.000022  0.000017  1.267400e-08  1.460700e-09  0.000076   0.000010   \n",
              "50863  0.000068  0.000063  1.845100e-08  1.664300e-09  0.000336   0.000017   \n",
              "50864  0.000043  0.000030  1.072500e-08  1.594500e-09  0.000117   0.000009   \n",
              "50865  0.000029  0.000019  1.054400e-08  1.288900e-09  0.000080   0.000008   \n",
              "50866       NaN       NaN           NaN           NaN       NaN        NaN   \n",
              "\n",
              "       class      rms  \n",
              "50862    MBA  0.50703  \n",
              "50863    MBA  0.46720  \n",
              "50864    MBA  0.53316  \n",
              "50865    MBA  0.40852  \n",
              "50866    NaN      NaN  \n",
              "\n",
              "[5 rows x 45 columns]"
            ],
            "text/html": [
              "\n",
              "  <div id=\"df-789a5539-1ab0-4d9a-9f81-e38e91817d51\">\n",
              "    <div class=\"colab-df-container\">\n",
              "      <div>\n",
              "<style scoped>\n",
              "    .dataframe tbody tr th:only-of-type {\n",
              "        vertical-align: middle;\n",
              "    }\n",
              "\n",
              "    .dataframe tbody tr th {\n",
              "        vertical-align: top;\n",
              "    }\n",
              "\n",
              "    .dataframe thead th {\n",
              "        text-align: right;\n",
              "    }\n",
              "</style>\n",
              "<table border=\"1\" class=\"dataframe\">\n",
              "  <thead>\n",
              "    <tr style=\"text-align: right;\">\n",
              "      <th></th>\n",
              "      <th>id</th>\n",
              "      <th>spkid</th>\n",
              "      <th>full_name</th>\n",
              "      <th>pdes</th>\n",
              "      <th>name</th>\n",
              "      <th>prefix</th>\n",
              "      <th>neo</th>\n",
              "      <th>pha</th>\n",
              "      <th>H</th>\n",
              "      <th>diameter</th>\n",
              "      <th>...</th>\n",
              "      <th>sigma_i</th>\n",
              "      <th>sigma_om</th>\n",
              "      <th>sigma_w</th>\n",
              "      <th>sigma_ma</th>\n",
              "      <th>sigma_ad</th>\n",
              "      <th>sigma_n</th>\n",
              "      <th>sigma_tp</th>\n",
              "      <th>sigma_per</th>\n",
              "      <th>class</th>\n",
              "      <th>rms</th>\n",
              "    </tr>\n",
              "  </thead>\n",
              "  <tbody>\n",
              "    <tr>\n",
              "      <th>50862</th>\n",
              "      <td>a0050863</td>\n",
              "      <td>2050863</td>\n",
              "      <td>50863 (2000 GN1)</td>\n",
              "      <td>50863</td>\n",
              "      <td>NaN</td>\n",
              "      <td>NaN</td>\n",
              "      <td>N</td>\n",
              "      <td>N</td>\n",
              "      <td>14.6</td>\n",
              "      <td>3.898</td>\n",
              "      <td>...</td>\n",
              "      <td>0.000005</td>\n",
              "      <td>0.000013</td>\n",
              "      <td>0.000022</td>\n",
              "      <td>0.000017</td>\n",
              "      <td>1.267400e-08</td>\n",
              "      <td>1.460700e-09</td>\n",
              "      <td>0.000076</td>\n",
              "      <td>0.000010</td>\n",
              "      <td>MBA</td>\n",
              "      <td>0.50703</td>\n",
              "    </tr>\n",
              "    <tr>\n",
              "      <th>50863</th>\n",
              "      <td>a0050864</td>\n",
              "      <td>2050864</td>\n",
              "      <td>50864 (2000 GM2)</td>\n",
              "      <td>50864</td>\n",
              "      <td>NaN</td>\n",
              "      <td>NaN</td>\n",
              "      <td>N</td>\n",
              "      <td>N</td>\n",
              "      <td>13.1</td>\n",
              "      <td>8.518</td>\n",
              "      <td>...</td>\n",
              "      <td>0.000004</td>\n",
              "      <td>0.000021</td>\n",
              "      <td>0.000068</td>\n",
              "      <td>0.000063</td>\n",
              "      <td>1.845100e-08</td>\n",
              "      <td>1.664300e-09</td>\n",
              "      <td>0.000336</td>\n",
              "      <td>0.000017</td>\n",
              "      <td>MBA</td>\n",
              "      <td>0.46720</td>\n",
              "    </tr>\n",
              "    <tr>\n",
              "      <th>50864</th>\n",
              "      <td>a0050865</td>\n",
              "      <td>2050865</td>\n",
              "      <td>50865 (2000 GU2)</td>\n",
              "      <td>50865</td>\n",
              "      <td>NaN</td>\n",
              "      <td>NaN</td>\n",
              "      <td>N</td>\n",
              "      <td>N</td>\n",
              "      <td>14.8</td>\n",
              "      <td>NaN</td>\n",
              "      <td>...</td>\n",
              "      <td>0.000003</td>\n",
              "      <td>0.000032</td>\n",
              "      <td>0.000043</td>\n",
              "      <td>0.000030</td>\n",
              "      <td>1.072500e-08</td>\n",
              "      <td>1.594500e-09</td>\n",
              "      <td>0.000117</td>\n",
              "      <td>0.000009</td>\n",
              "      <td>MBA</td>\n",
              "      <td>0.53316</td>\n",
              "    </tr>\n",
              "    <tr>\n",
              "      <th>50865</th>\n",
              "      <td>a0050866</td>\n",
              "      <td>2050866</td>\n",
              "      <td>50866 Davidesprizzi (2000 GX3)</td>\n",
              "      <td>50866</td>\n",
              "      <td>Davidesprizzi</td>\n",
              "      <td>NaN</td>\n",
              "      <td>N</td>\n",
              "      <td>N</td>\n",
              "      <td>13.2</td>\n",
              "      <td>6.293</td>\n",
              "      <td>...</td>\n",
              "      <td>0.000003</td>\n",
              "      <td>0.000018</td>\n",
              "      <td>0.000029</td>\n",
              "      <td>0.000019</td>\n",
              "      <td>1.054400e-08</td>\n",
              "      <td>1.288900e-09</td>\n",
              "      <td>0.000080</td>\n",
              "      <td>0.000008</td>\n",
              "      <td>MBA</td>\n",
              "      <td>0.40852</td>\n",
              "    </tr>\n",
              "    <tr>\n",
              "      <th>50866</th>\n",
              "      <td>a0050867</td>\n",
              "      <td>2050867</td>\n",
              "      <td>50867 (2000 GM4)</td>\n",
              "      <td>50867</td>\n",
              "      <td>NaN</td>\n",
              "      <td>NaN</td>\n",
              "      <td>N</td>\n",
              "      <td>N</td>\n",
              "      <td>15.0</td>\n",
              "      <td>NaN</td>\n",
              "      <td>...</td>\n",
              "      <td>NaN</td>\n",
              "      <td>NaN</td>\n",
              "      <td>NaN</td>\n",
              "      <td>NaN</td>\n",
              "      <td>NaN</td>\n",
              "      <td>NaN</td>\n",
              "      <td>NaN</td>\n",
              "      <td>NaN</td>\n",
              "      <td>NaN</td>\n",
              "      <td>NaN</td>\n",
              "    </tr>\n",
              "  </tbody>\n",
              "</table>\n",
              "<p>5 rows × 45 columns</p>\n",
              "</div>\n",
              "      <button class=\"colab-df-convert\" onclick=\"convertToInteractive('df-789a5539-1ab0-4d9a-9f81-e38e91817d51')\"\n",
              "              title=\"Convert this dataframe to an interactive table.\"\n",
              "              style=\"display:none;\">\n",
              "        \n",
              "  <svg xmlns=\"http://www.w3.org/2000/svg\" height=\"24px\"viewBox=\"0 0 24 24\"\n",
              "       width=\"24px\">\n",
              "    <path d=\"M0 0h24v24H0V0z\" fill=\"none\"/>\n",
              "    <path d=\"M18.56 5.44l.94 2.06.94-2.06 2.06-.94-2.06-.94-.94-2.06-.94 2.06-2.06.94zm-11 1L8.5 8.5l.94-2.06 2.06-.94-2.06-.94L8.5 2.5l-.94 2.06-2.06.94zm10 10l.94 2.06.94-2.06 2.06-.94-2.06-.94-.94-2.06-.94 2.06-2.06.94z\"/><path d=\"M17.41 7.96l-1.37-1.37c-.4-.4-.92-.59-1.43-.59-.52 0-1.04.2-1.43.59L10.3 9.45l-7.72 7.72c-.78.78-.78 2.05 0 2.83L4 21.41c.39.39.9.59 1.41.59.51 0 1.02-.2 1.41-.59l7.78-7.78 2.81-2.81c.8-.78.8-2.07 0-2.86zM5.41 20L4 18.59l7.72-7.72 1.47 1.35L5.41 20z\"/>\n",
              "  </svg>\n",
              "      </button>\n",
              "      \n",
              "  <style>\n",
              "    .colab-df-container {\n",
              "      display:flex;\n",
              "      flex-wrap:wrap;\n",
              "      gap: 12px;\n",
              "    }\n",
              "\n",
              "    .colab-df-convert {\n",
              "      background-color: #E8F0FE;\n",
              "      border: none;\n",
              "      border-radius: 50%;\n",
              "      cursor: pointer;\n",
              "      display: none;\n",
              "      fill: #1967D2;\n",
              "      height: 32px;\n",
              "      padding: 0 0 0 0;\n",
              "      width: 32px;\n",
              "    }\n",
              "\n",
              "    .colab-df-convert:hover {\n",
              "      background-color: #E2EBFA;\n",
              "      box-shadow: 0px 1px 2px rgba(60, 64, 67, 0.3), 0px 1px 3px 1px rgba(60, 64, 67, 0.15);\n",
              "      fill: #174EA6;\n",
              "    }\n",
              "\n",
              "    [theme=dark] .colab-df-convert {\n",
              "      background-color: #3B4455;\n",
              "      fill: #D2E3FC;\n",
              "    }\n",
              "\n",
              "    [theme=dark] .colab-df-convert:hover {\n",
              "      background-color: #434B5C;\n",
              "      box-shadow: 0px 1px 3px 1px rgba(0, 0, 0, 0.15);\n",
              "      filter: drop-shadow(0px 1px 2px rgba(0, 0, 0, 0.3));\n",
              "      fill: #FFFFFF;\n",
              "    }\n",
              "  </style>\n",
              "\n",
              "      <script>\n",
              "        const buttonEl =\n",
              "          document.querySelector('#df-789a5539-1ab0-4d9a-9f81-e38e91817d51 button.colab-df-convert');\n",
              "        buttonEl.style.display =\n",
              "          google.colab.kernel.accessAllowed ? 'block' : 'none';\n",
              "\n",
              "        async function convertToInteractive(key) {\n",
              "          const element = document.querySelector('#df-789a5539-1ab0-4d9a-9f81-e38e91817d51');\n",
              "          const dataTable =\n",
              "            await google.colab.kernel.invokeFunction('convertToInteractive',\n",
              "                                                     [key], {});\n",
              "          if (!dataTable) return;\n",
              "\n",
              "          const docLinkHtml = 'Like what you see? Visit the ' +\n",
              "            '<a target=\"_blank\" href=https://colab.research.google.com/notebooks/data_table.ipynb>data table notebook</a>'\n",
              "            + ' to learn more about interactive tables.';\n",
              "          element.innerHTML = '';\n",
              "          dataTable['output_type'] = 'display_data';\n",
              "          await google.colab.output.renderOutput(dataTable, element);\n",
              "          const docLink = document.createElement('div');\n",
              "          docLink.innerHTML = docLinkHtml;\n",
              "          element.appendChild(docLink);\n",
              "        }\n",
              "      </script>\n",
              "    </div>\n",
              "  </div>\n",
              "  "
            ]
          },
          "metadata": {},
          "execution_count": 4
        }
      ]
    },
    {
      "cell_type": "code",
      "source": [
        "df.shape"
      ],
      "metadata": {
        "colab": {
          "base_uri": "https://localhost:8080/"
        },
        "id": "8XR1wfX_1BNn",
        "outputId": "8eebbd66-88f7-45f7-d64b-a6b2e1decf8e"
      },
      "execution_count": 5,
      "outputs": [
        {
          "output_type": "execute_result",
          "data": {
            "text/plain": [
              "(50867, 45)"
            ]
          },
          "metadata": {},
          "execution_count": 5
        }
      ]
    },
    {
      "cell_type": "code",
      "source": [
        "df.info()"
      ],
      "metadata": {
        "colab": {
          "base_uri": "https://localhost:8080/"
        },
        "id": "MkjpOWAovPNO",
        "outputId": "246d12c8-a499-4ff1-d25b-50af09b5d931"
      },
      "execution_count": 6,
      "outputs": [
        {
          "output_type": "stream",
          "name": "stdout",
          "text": [
            "<class 'pandas.core.frame.DataFrame'>\n",
            "RangeIndex: 50867 entries, 0 to 50866\n",
            "Data columns (total 45 columns):\n",
            " #   Column          Non-Null Count  Dtype  \n",
            "---  ------          --------------  -----  \n",
            " 0   id              50867 non-null  object \n",
            " 1   spkid           50867 non-null  int64  \n",
            " 2   full_name       50867 non-null  object \n",
            " 3   pdes            50867 non-null  int64  \n",
            " 4   name            18377 non-null  object \n",
            " 5   prefix          0 non-null      float64\n",
            " 6   neo             50867 non-null  object \n",
            " 7   pha             50867 non-null  object \n",
            " 8   H               50867 non-null  float64\n",
            " 9   diameter        34934 non-null  float64\n",
            " 10  albedo          34916 non-null  float64\n",
            " 11  diameter_sigma  34831 non-null  float64\n",
            " 12  orbit_id        50867 non-null  object \n",
            " 13  epoch           50867 non-null  float64\n",
            " 14  epoch_mjd       50867 non-null  int64  \n",
            " 15  epoch_cal       50867 non-null  float64\n",
            " 16  equinox         50867 non-null  object \n",
            " 17  e               50867 non-null  float64\n",
            " 18  a               50867 non-null  float64\n",
            " 19  q               50867 non-null  float64\n",
            " 20  i               50867 non-null  float64\n",
            " 21  om              50867 non-null  float64\n",
            " 22  w               50867 non-null  float64\n",
            " 23  ma              50867 non-null  float64\n",
            " 24  ad              50866 non-null  float64\n",
            " 25  n               50866 non-null  float64\n",
            " 26  tp              50866 non-null  float64\n",
            " 27  tp_cal          50866 non-null  float64\n",
            " 28  per             50866 non-null  float64\n",
            " 29  per_y           50866 non-null  float64\n",
            " 30  moid            50866 non-null  float64\n",
            " 31  moid_ld         50866 non-null  float64\n",
            " 32  sigma_e         50866 non-null  float64\n",
            " 33  sigma_a         50866 non-null  float64\n",
            " 34  sigma_q         50866 non-null  float64\n",
            " 35  sigma_i         50866 non-null  float64\n",
            " 36  sigma_om        50866 non-null  float64\n",
            " 37  sigma_w         50866 non-null  float64\n",
            " 38  sigma_ma        50866 non-null  float64\n",
            " 39  sigma_ad        50866 non-null  float64\n",
            " 40  sigma_n         50866 non-null  float64\n",
            " 41  sigma_tp        50866 non-null  float64\n",
            " 42  sigma_per       50866 non-null  float64\n",
            " 43  class           50866 non-null  object \n",
            " 44  rms             50866 non-null  float64\n",
            "dtypes: float64(34), int64(3), object(8)\n",
            "memory usage: 17.5+ MB\n"
          ]
        }
      ]
    },
    {
      "cell_type": "code",
      "source": [
        "df.describe()"
      ],
      "metadata": {
        "colab": {
          "base_uri": "https://localhost:8080/",
          "height": 394
        },
        "id": "C7Mcjb3uvcLz",
        "outputId": "bb7d3077-17ae-4a7e-990d-aeb8b3a038ed"
      },
      "execution_count": 7,
      "outputs": [
        {
          "output_type": "execute_result",
          "data": {
            "text/plain": [
              "              spkid          pdes  prefix             H      diameter  \\\n",
              "count  5.086700e+04  50867.000000     0.0  50867.000000  34934.000000   \n",
              "mean   2.025434e+06  25434.000000     NaN     14.089211      9.459632   \n",
              "std    1.468418e+04  14684.182408     NaN      1.319937     17.432126   \n",
              "min    2.000001e+06      1.000000     NaN      2.400000      0.204000   \n",
              "25%    2.012718e+06  12717.500000     NaN     13.500000      3.624000   \n",
              "50%    2.025434e+06  25434.000000     NaN     14.300000      5.615500   \n",
              "75%    2.038150e+06  38150.500000     NaN     14.900000      9.218750   \n",
              "max    2.050867e+06  50867.000000     NaN     20.700000    939.400000   \n",
              "\n",
              "             albedo  diameter_sigma         epoch     epoch_mjd     epoch_cal  \\\n",
              "count  34916.000000    34831.000000  5.086700e+04  50867.000000  5.086700e+04   \n",
              "mean       0.199293        0.410205  2.459000e+06  58999.421865  2.020051e+07   \n",
              "std        0.130519        1.149228  5.059376e+01     50.593757  1.404506e+03   \n",
              "min        0.005000        0.003000  2.452464e+06  52464.000000  2.002071e+07   \n",
              "25%        0.079000        0.134000  2.459000e+06  59000.000000  2.020053e+07   \n",
              "50%        0.189000        0.228000  2.459000e+06  59000.000000  2.020053e+07   \n",
              "75%        0.285000        0.430000  2.459000e+06  59000.000000  2.020053e+07   \n",
              "max        1.000000      140.000000  2.459000e+06  59000.000000  2.020053e+07   \n",
              "\n",
              "       ...       sigma_q       sigma_i      sigma_om       sigma_w  \\\n",
              "count  ...  5.086600e+04  5.086600e+04  5.086600e+04  5.086600e+04   \n",
              "mean   ...  6.821471e-06  4.810667e-06  6.590492e-05  4.818089e-04   \n",
              "std    ...  8.404440e-04  1.546930e-05  6.396868e-04  8.252486e-02   \n",
              "min    ...  1.956900e-11  4.608900e-09  6.168800e-08  6.624800e-08   \n",
              "25%    ...  8.697050e-08  3.903100e-06  2.300800e-05  3.242925e-05   \n",
              "50%    ...  1.042800e-07  4.392600e-06  3.743500e-05  4.763850e-05   \n",
              "75%    ...  1.245500e-07  5.029375e-06  6.897725e-05  7.923450e-05   \n",
              "max    ...  1.845500e-01  2.716200e-03  1.410600e-01  1.860100e+01   \n",
              "\n",
              "           sigma_ma      sigma_ad       sigma_n      sigma_tp     sigma_per  \\\n",
              "count  5.086600e+04  5.086600e+04  5.086600e+04  5.086600e+04  5.086600e+04   \n",
              "mean   4.248507e-04  9.131572e-06  2.700754e-09  1.127747e-01  2.787476e-02   \n",
              "std    7.989327e-02  4.766211e-04  5.708174e-08  2.330330e+01  1.513884e+00   \n",
              "min    7.820700e-09  1.111300e-11  1.196500e-12  3.782900e-08  9.415900e-09   \n",
              "25%    1.339100e-05  9.907600e-09  1.403300e-09  5.467600e-05  7.273725e-06   \n",
              "50%    1.849200e-05  1.342900e-08  1.587300e-09  7.983950e-05  1.042100e-05   \n",
              "75%    2.785750e-05  1.825000e-08  1.803100e-09  1.261775e-04  1.513075e-05   \n",
              "max    1.800800e+01  5.952200e-02  7.192700e-06  5.253500e+03  2.126100e+02   \n",
              "\n",
              "                rms  \n",
              "count  50866.000000  \n",
              "mean       0.510641  \n",
              "std        0.047498  \n",
              "min        0.162240  \n",
              "25%        0.482183  \n",
              "50%        0.514410  \n",
              "75%        0.542770  \n",
              "max        0.814500  \n",
              "\n",
              "[8 rows x 37 columns]"
            ],
            "text/html": [
              "\n",
              "  <div id=\"df-417bac00-4277-477e-91e1-06e7a952692d\">\n",
              "    <div class=\"colab-df-container\">\n",
              "      <div>\n",
              "<style scoped>\n",
              "    .dataframe tbody tr th:only-of-type {\n",
              "        vertical-align: middle;\n",
              "    }\n",
              "\n",
              "    .dataframe tbody tr th {\n",
              "        vertical-align: top;\n",
              "    }\n",
              "\n",
              "    .dataframe thead th {\n",
              "        text-align: right;\n",
              "    }\n",
              "</style>\n",
              "<table border=\"1\" class=\"dataframe\">\n",
              "  <thead>\n",
              "    <tr style=\"text-align: right;\">\n",
              "      <th></th>\n",
              "      <th>spkid</th>\n",
              "      <th>pdes</th>\n",
              "      <th>prefix</th>\n",
              "      <th>H</th>\n",
              "      <th>diameter</th>\n",
              "      <th>albedo</th>\n",
              "      <th>diameter_sigma</th>\n",
              "      <th>epoch</th>\n",
              "      <th>epoch_mjd</th>\n",
              "      <th>epoch_cal</th>\n",
              "      <th>...</th>\n",
              "      <th>sigma_q</th>\n",
              "      <th>sigma_i</th>\n",
              "      <th>sigma_om</th>\n",
              "      <th>sigma_w</th>\n",
              "      <th>sigma_ma</th>\n",
              "      <th>sigma_ad</th>\n",
              "      <th>sigma_n</th>\n",
              "      <th>sigma_tp</th>\n",
              "      <th>sigma_per</th>\n",
              "      <th>rms</th>\n",
              "    </tr>\n",
              "  </thead>\n",
              "  <tbody>\n",
              "    <tr>\n",
              "      <th>count</th>\n",
              "      <td>5.086700e+04</td>\n",
              "      <td>50867.000000</td>\n",
              "      <td>0.0</td>\n",
              "      <td>50867.000000</td>\n",
              "      <td>34934.000000</td>\n",
              "      <td>34916.000000</td>\n",
              "      <td>34831.000000</td>\n",
              "      <td>5.086700e+04</td>\n",
              "      <td>50867.000000</td>\n",
              "      <td>5.086700e+04</td>\n",
              "      <td>...</td>\n",
              "      <td>5.086600e+04</td>\n",
              "      <td>5.086600e+04</td>\n",
              "      <td>5.086600e+04</td>\n",
              "      <td>5.086600e+04</td>\n",
              "      <td>5.086600e+04</td>\n",
              "      <td>5.086600e+04</td>\n",
              "      <td>5.086600e+04</td>\n",
              "      <td>5.086600e+04</td>\n",
              "      <td>5.086600e+04</td>\n",
              "      <td>50866.000000</td>\n",
              "    </tr>\n",
              "    <tr>\n",
              "      <th>mean</th>\n",
              "      <td>2.025434e+06</td>\n",
              "      <td>25434.000000</td>\n",
              "      <td>NaN</td>\n",
              "      <td>14.089211</td>\n",
              "      <td>9.459632</td>\n",
              "      <td>0.199293</td>\n",
              "      <td>0.410205</td>\n",
              "      <td>2.459000e+06</td>\n",
              "      <td>58999.421865</td>\n",
              "      <td>2.020051e+07</td>\n",
              "      <td>...</td>\n",
              "      <td>6.821471e-06</td>\n",
              "      <td>4.810667e-06</td>\n",
              "      <td>6.590492e-05</td>\n",
              "      <td>4.818089e-04</td>\n",
              "      <td>4.248507e-04</td>\n",
              "      <td>9.131572e-06</td>\n",
              "      <td>2.700754e-09</td>\n",
              "      <td>1.127747e-01</td>\n",
              "      <td>2.787476e-02</td>\n",
              "      <td>0.510641</td>\n",
              "    </tr>\n",
              "    <tr>\n",
              "      <th>std</th>\n",
              "      <td>1.468418e+04</td>\n",
              "      <td>14684.182408</td>\n",
              "      <td>NaN</td>\n",
              "      <td>1.319937</td>\n",
              "      <td>17.432126</td>\n",
              "      <td>0.130519</td>\n",
              "      <td>1.149228</td>\n",
              "      <td>5.059376e+01</td>\n",
              "      <td>50.593757</td>\n",
              "      <td>1.404506e+03</td>\n",
              "      <td>...</td>\n",
              "      <td>8.404440e-04</td>\n",
              "      <td>1.546930e-05</td>\n",
              "      <td>6.396868e-04</td>\n",
              "      <td>8.252486e-02</td>\n",
              "      <td>7.989327e-02</td>\n",
              "      <td>4.766211e-04</td>\n",
              "      <td>5.708174e-08</td>\n",
              "      <td>2.330330e+01</td>\n",
              "      <td>1.513884e+00</td>\n",
              "      <td>0.047498</td>\n",
              "    </tr>\n",
              "    <tr>\n",
              "      <th>min</th>\n",
              "      <td>2.000001e+06</td>\n",
              "      <td>1.000000</td>\n",
              "      <td>NaN</td>\n",
              "      <td>2.400000</td>\n",
              "      <td>0.204000</td>\n",
              "      <td>0.005000</td>\n",
              "      <td>0.003000</td>\n",
              "      <td>2.452464e+06</td>\n",
              "      <td>52464.000000</td>\n",
              "      <td>2.002071e+07</td>\n",
              "      <td>...</td>\n",
              "      <td>1.956900e-11</td>\n",
              "      <td>4.608900e-09</td>\n",
              "      <td>6.168800e-08</td>\n",
              "      <td>6.624800e-08</td>\n",
              "      <td>7.820700e-09</td>\n",
              "      <td>1.111300e-11</td>\n",
              "      <td>1.196500e-12</td>\n",
              "      <td>3.782900e-08</td>\n",
              "      <td>9.415900e-09</td>\n",
              "      <td>0.162240</td>\n",
              "    </tr>\n",
              "    <tr>\n",
              "      <th>25%</th>\n",
              "      <td>2.012718e+06</td>\n",
              "      <td>12717.500000</td>\n",
              "      <td>NaN</td>\n",
              "      <td>13.500000</td>\n",
              "      <td>3.624000</td>\n",
              "      <td>0.079000</td>\n",
              "      <td>0.134000</td>\n",
              "      <td>2.459000e+06</td>\n",
              "      <td>59000.000000</td>\n",
              "      <td>2.020053e+07</td>\n",
              "      <td>...</td>\n",
              "      <td>8.697050e-08</td>\n",
              "      <td>3.903100e-06</td>\n",
              "      <td>2.300800e-05</td>\n",
              "      <td>3.242925e-05</td>\n",
              "      <td>1.339100e-05</td>\n",
              "      <td>9.907600e-09</td>\n",
              "      <td>1.403300e-09</td>\n",
              "      <td>5.467600e-05</td>\n",
              "      <td>7.273725e-06</td>\n",
              "      <td>0.482183</td>\n",
              "    </tr>\n",
              "    <tr>\n",
              "      <th>50%</th>\n",
              "      <td>2.025434e+06</td>\n",
              "      <td>25434.000000</td>\n",
              "      <td>NaN</td>\n",
              "      <td>14.300000</td>\n",
              "      <td>5.615500</td>\n",
              "      <td>0.189000</td>\n",
              "      <td>0.228000</td>\n",
              "      <td>2.459000e+06</td>\n",
              "      <td>59000.000000</td>\n",
              "      <td>2.020053e+07</td>\n",
              "      <td>...</td>\n",
              "      <td>1.042800e-07</td>\n",
              "      <td>4.392600e-06</td>\n",
              "      <td>3.743500e-05</td>\n",
              "      <td>4.763850e-05</td>\n",
              "      <td>1.849200e-05</td>\n",
              "      <td>1.342900e-08</td>\n",
              "      <td>1.587300e-09</td>\n",
              "      <td>7.983950e-05</td>\n",
              "      <td>1.042100e-05</td>\n",
              "      <td>0.514410</td>\n",
              "    </tr>\n",
              "    <tr>\n",
              "      <th>75%</th>\n",
              "      <td>2.038150e+06</td>\n",
              "      <td>38150.500000</td>\n",
              "      <td>NaN</td>\n",
              "      <td>14.900000</td>\n",
              "      <td>9.218750</td>\n",
              "      <td>0.285000</td>\n",
              "      <td>0.430000</td>\n",
              "      <td>2.459000e+06</td>\n",
              "      <td>59000.000000</td>\n",
              "      <td>2.020053e+07</td>\n",
              "      <td>...</td>\n",
              "      <td>1.245500e-07</td>\n",
              "      <td>5.029375e-06</td>\n",
              "      <td>6.897725e-05</td>\n",
              "      <td>7.923450e-05</td>\n",
              "      <td>2.785750e-05</td>\n",
              "      <td>1.825000e-08</td>\n",
              "      <td>1.803100e-09</td>\n",
              "      <td>1.261775e-04</td>\n",
              "      <td>1.513075e-05</td>\n",
              "      <td>0.542770</td>\n",
              "    </tr>\n",
              "    <tr>\n",
              "      <th>max</th>\n",
              "      <td>2.050867e+06</td>\n",
              "      <td>50867.000000</td>\n",
              "      <td>NaN</td>\n",
              "      <td>20.700000</td>\n",
              "      <td>939.400000</td>\n",
              "      <td>1.000000</td>\n",
              "      <td>140.000000</td>\n",
              "      <td>2.459000e+06</td>\n",
              "      <td>59000.000000</td>\n",
              "      <td>2.020053e+07</td>\n",
              "      <td>...</td>\n",
              "      <td>1.845500e-01</td>\n",
              "      <td>2.716200e-03</td>\n",
              "      <td>1.410600e-01</td>\n",
              "      <td>1.860100e+01</td>\n",
              "      <td>1.800800e+01</td>\n",
              "      <td>5.952200e-02</td>\n",
              "      <td>7.192700e-06</td>\n",
              "      <td>5.253500e+03</td>\n",
              "      <td>2.126100e+02</td>\n",
              "      <td>0.814500</td>\n",
              "    </tr>\n",
              "  </tbody>\n",
              "</table>\n",
              "<p>8 rows × 37 columns</p>\n",
              "</div>\n",
              "      <button class=\"colab-df-convert\" onclick=\"convertToInteractive('df-417bac00-4277-477e-91e1-06e7a952692d')\"\n",
              "              title=\"Convert this dataframe to an interactive table.\"\n",
              "              style=\"display:none;\">\n",
              "        \n",
              "  <svg xmlns=\"http://www.w3.org/2000/svg\" height=\"24px\"viewBox=\"0 0 24 24\"\n",
              "       width=\"24px\">\n",
              "    <path d=\"M0 0h24v24H0V0z\" fill=\"none\"/>\n",
              "    <path d=\"M18.56 5.44l.94 2.06.94-2.06 2.06-.94-2.06-.94-.94-2.06-.94 2.06-2.06.94zm-11 1L8.5 8.5l.94-2.06 2.06-.94-2.06-.94L8.5 2.5l-.94 2.06-2.06.94zm10 10l.94 2.06.94-2.06 2.06-.94-2.06-.94-.94-2.06-.94 2.06-2.06.94z\"/><path d=\"M17.41 7.96l-1.37-1.37c-.4-.4-.92-.59-1.43-.59-.52 0-1.04.2-1.43.59L10.3 9.45l-7.72 7.72c-.78.78-.78 2.05 0 2.83L4 21.41c.39.39.9.59 1.41.59.51 0 1.02-.2 1.41-.59l7.78-7.78 2.81-2.81c.8-.78.8-2.07 0-2.86zM5.41 20L4 18.59l7.72-7.72 1.47 1.35L5.41 20z\"/>\n",
              "  </svg>\n",
              "      </button>\n",
              "      \n",
              "  <style>\n",
              "    .colab-df-container {\n",
              "      display:flex;\n",
              "      flex-wrap:wrap;\n",
              "      gap: 12px;\n",
              "    }\n",
              "\n",
              "    .colab-df-convert {\n",
              "      background-color: #E8F0FE;\n",
              "      border: none;\n",
              "      border-radius: 50%;\n",
              "      cursor: pointer;\n",
              "      display: none;\n",
              "      fill: #1967D2;\n",
              "      height: 32px;\n",
              "      padding: 0 0 0 0;\n",
              "      width: 32px;\n",
              "    }\n",
              "\n",
              "    .colab-df-convert:hover {\n",
              "      background-color: #E2EBFA;\n",
              "      box-shadow: 0px 1px 2px rgba(60, 64, 67, 0.3), 0px 1px 3px 1px rgba(60, 64, 67, 0.15);\n",
              "      fill: #174EA6;\n",
              "    }\n",
              "\n",
              "    [theme=dark] .colab-df-convert {\n",
              "      background-color: #3B4455;\n",
              "      fill: #D2E3FC;\n",
              "    }\n",
              "\n",
              "    [theme=dark] .colab-df-convert:hover {\n",
              "      background-color: #434B5C;\n",
              "      box-shadow: 0px 1px 3px 1px rgba(0, 0, 0, 0.15);\n",
              "      filter: drop-shadow(0px 1px 2px rgba(0, 0, 0, 0.3));\n",
              "      fill: #FFFFFF;\n",
              "    }\n",
              "  </style>\n",
              "\n",
              "      <script>\n",
              "        const buttonEl =\n",
              "          document.querySelector('#df-417bac00-4277-477e-91e1-06e7a952692d button.colab-df-convert');\n",
              "        buttonEl.style.display =\n",
              "          google.colab.kernel.accessAllowed ? 'block' : 'none';\n",
              "\n",
              "        async function convertToInteractive(key) {\n",
              "          const element = document.querySelector('#df-417bac00-4277-477e-91e1-06e7a952692d');\n",
              "          const dataTable =\n",
              "            await google.colab.kernel.invokeFunction('convertToInteractive',\n",
              "                                                     [key], {});\n",
              "          if (!dataTable) return;\n",
              "\n",
              "          const docLinkHtml = 'Like what you see? Visit the ' +\n",
              "            '<a target=\"_blank\" href=https://colab.research.google.com/notebooks/data_table.ipynb>data table notebook</a>'\n",
              "            + ' to learn more about interactive tables.';\n",
              "          element.innerHTML = '';\n",
              "          dataTable['output_type'] = 'display_data';\n",
              "          await google.colab.output.renderOutput(dataTable, element);\n",
              "          const docLink = document.createElement('div');\n",
              "          docLink.innerHTML = docLinkHtml;\n",
              "          element.appendChild(docLink);\n",
              "        }\n",
              "      </script>\n",
              "    </div>\n",
              "  </div>\n",
              "  "
            ]
          },
          "metadata": {},
          "execution_count": 7
        }
      ]
    },
    {
      "cell_type": "markdown",
      "source": [
        "## **Data Cleaning**"
      ],
      "metadata": {
        "id": "ttYDA9-_VcHg"
      }
    },
    {
      "cell_type": "code",
      "source": [
        "df.isnull().sum()"
      ],
      "metadata": {
        "colab": {
          "base_uri": "https://localhost:8080/"
        },
        "id": "0ZqYkxySxZFa",
        "outputId": "b7829b5b-a6c7-4154-d301-5aa2d7bc2ccb"
      },
      "execution_count": 8,
      "outputs": [
        {
          "output_type": "execute_result",
          "data": {
            "text/plain": [
              "id                    0\n",
              "spkid                 0\n",
              "full_name             0\n",
              "pdes                  0\n",
              "name              32490\n",
              "prefix            50867\n",
              "neo                   0\n",
              "pha                   0\n",
              "H                     0\n",
              "diameter          15933\n",
              "albedo            15951\n",
              "diameter_sigma    16036\n",
              "orbit_id              0\n",
              "epoch                 0\n",
              "epoch_mjd             0\n",
              "epoch_cal             0\n",
              "equinox               0\n",
              "e                     0\n",
              "a                     0\n",
              "q                     0\n",
              "i                     0\n",
              "om                    0\n",
              "w                     0\n",
              "ma                    0\n",
              "ad                    1\n",
              "n                     1\n",
              "tp                    1\n",
              "tp_cal                1\n",
              "per                   1\n",
              "per_y                 1\n",
              "moid                  1\n",
              "moid_ld               1\n",
              "sigma_e               1\n",
              "sigma_a               1\n",
              "sigma_q               1\n",
              "sigma_i               1\n",
              "sigma_om              1\n",
              "sigma_w               1\n",
              "sigma_ma              1\n",
              "sigma_ad              1\n",
              "sigma_n               1\n",
              "sigma_tp              1\n",
              "sigma_per             1\n",
              "class                 1\n",
              "rms                   1\n",
              "dtype: int64"
            ]
          },
          "metadata": {},
          "execution_count": 8
        }
      ]
    },
    {
      "cell_type": "code",
      "source": [
        "df.drop('id', axis=1, inplace=True)"
      ],
      "metadata": {
        "id": "uWoVbqUqzyom"
      },
      "execution_count": 9,
      "outputs": []
    },
    {
      "cell_type": "code",
      "source": [
        "df.dropna(subset=['name'], inplace=True)"
      ],
      "metadata": {
        "id": "_fsvit9u0m1s"
      },
      "execution_count": 10,
      "outputs": []
    },
    {
      "cell_type": "code",
      "source": [
        "df['prefix'].fillna(0, inplace=True)"
      ],
      "metadata": {
        "id": "1qDe_UQo01rP"
      },
      "execution_count": 11,
      "outputs": []
    },
    {
      "cell_type": "code",
      "source": [
        "mean_diameter = df['diameter'].mean()\n",
        "df['diameter'].fillna(mean_diameter, inplace=True)"
      ],
      "metadata": {
        "id": "mAcUFpV313o_"
      },
      "execution_count": 12,
      "outputs": []
    },
    {
      "cell_type": "code",
      "source": [
        "mean_diameter"
      ],
      "metadata": {
        "colab": {
          "base_uri": "https://localhost:8080/"
        },
        "id": "yh96L3JS2WDJ",
        "outputId": "87e45491-d5c5-4d4c-b8a0-7c2f7e45469d"
      },
      "execution_count": 13,
      "outputs": [
        {
          "output_type": "execute_result",
          "data": {
            "text/plain": [
              "14.034654127853234"
            ]
          },
          "metadata": {},
          "execution_count": 13
        }
      ]
    },
    {
      "cell_type": "code",
      "source": [
        "mean_albedo = df['albedo'].mean()\n",
        "df['albedo'].fillna(mean_albedo, inplace=True)"
      ],
      "metadata": {
        "id": "szZJSbfo2YgE"
      },
      "execution_count": 14,
      "outputs": []
    },
    {
      "cell_type": "code",
      "source": [
        "mean_diameter_sigma = df['diameter_sigma'].mean()\n",
        "df['diameter_sigma'].fillna(mean_diameter_sigma, inplace=True)"
      ],
      "metadata": {
        "id": "N-VlaeIq2q18"
      },
      "execution_count": 15,
      "outputs": []
    },
    {
      "cell_type": "code",
      "source": [
        "df.dropna(inplace=True)"
      ],
      "metadata": {
        "id": "si4GUb2b21lq"
      },
      "execution_count": 16,
      "outputs": []
    },
    {
      "cell_type": "code",
      "source": [
        "df.isnull().sum()"
      ],
      "metadata": {
        "colab": {
          "base_uri": "https://localhost:8080/"
        },
        "id": "TphHQdOL3Flj",
        "outputId": "0471dee9-7daa-47f9-a74c-fefebfa88b85"
      },
      "execution_count": 17,
      "outputs": [
        {
          "output_type": "execute_result",
          "data": {
            "text/plain": [
              "spkid             0\n",
              "full_name         0\n",
              "pdes              0\n",
              "name              0\n",
              "prefix            0\n",
              "neo               0\n",
              "pha               0\n",
              "H                 0\n",
              "diameter          0\n",
              "albedo            0\n",
              "diameter_sigma    0\n",
              "orbit_id          0\n",
              "epoch             0\n",
              "epoch_mjd         0\n",
              "epoch_cal         0\n",
              "equinox           0\n",
              "e                 0\n",
              "a                 0\n",
              "q                 0\n",
              "i                 0\n",
              "om                0\n",
              "w                 0\n",
              "ma                0\n",
              "ad                0\n",
              "n                 0\n",
              "tp                0\n",
              "tp_cal            0\n",
              "per               0\n",
              "per_y             0\n",
              "moid              0\n",
              "moid_ld           0\n",
              "sigma_e           0\n",
              "sigma_a           0\n",
              "sigma_q           0\n",
              "sigma_i           0\n",
              "sigma_om          0\n",
              "sigma_w           0\n",
              "sigma_ma          0\n",
              "sigma_ad          0\n",
              "sigma_n           0\n",
              "sigma_tp          0\n",
              "sigma_per         0\n",
              "class             0\n",
              "rms               0\n",
              "dtype: int64"
            ]
          },
          "metadata": {},
          "execution_count": 17
        }
      ]
    },
    {
      "cell_type": "markdown",
      "source": [
        "## **Data Visualization**"
      ],
      "metadata": {
        "id": "hf7fLpItViT-"
      }
    },
    {
      "cell_type": "markdown",
      "source": [
        "## **1.What is the overall distribution of the \"diameter\" values in the dataset?**"
      ],
      "metadata": {
        "id": "31lHr7rP4ve8"
      }
    },
    {
      "cell_type": "code",
      "source": [
        "diameter_values = df['diameter']"
      ],
      "metadata": {
        "id": "f0fTKmts3H87"
      },
      "execution_count": 18,
      "outputs": []
    },
    {
      "cell_type": "code",
      "source": [
        "diameter_values"
      ],
      "metadata": {
        "colab": {
          "base_uri": "https://localhost:8080/"
        },
        "id": "yT1X0bGD3oFn",
        "outputId": "d52a5b29-dc21-4e83-95a1-57f9e1d06bcd"
      },
      "execution_count": 19,
      "outputs": [
        {
          "output_type": "execute_result",
          "data": {
            "text/plain": [
              "0        939.400000\n",
              "1        545.000000\n",
              "2        246.596000\n",
              "3        525.400000\n",
              "4        106.699000\n",
              "            ...    \n",
              "50718      3.307000\n",
              "50720     14.034654\n",
              "50721      7.640000\n",
              "50767      4.101000\n",
              "50865      6.293000\n",
              "Name: diameter, Length: 18377, dtype: float64"
            ]
          },
          "metadata": {},
          "execution_count": 19
        }
      ]
    },
    {
      "cell_type": "code",
      "source": [
        "plt.figure(figsize=(10, 6))\n",
        "plt.hist(diameter_values, bins=20, edgecolor='black')\n",
        "plt.xlabel('Diameter')\n",
        "plt.ylabel('Frequency')\n",
        "plt.title('Distribution of Diameter Values')\n",
        "plt.show()"
      ],
      "metadata": {
        "colab": {
          "base_uri": "https://localhost:8080/",
          "height": 564
        },
        "id": "v_94xCR549yh",
        "outputId": "15b50e38-6c30-4e94-a43a-37331e9dc9a6"
      },
      "execution_count": 20,
      "outputs": [
        {
          "output_type": "display_data",
          "data": {
            "text/plain": [
              "<Figure size 1000x600 with 1 Axes>"
            ],
            "image/png": "[encoded data removed]"
          },
          "metadata": {}
        }
      ]
    },
    {
      "cell_type": "markdown",
      "source": [
        "## **2.Is there a correlation between the \"diameter\" and \"albedo\" columns?**"
      ],
      "metadata": {
        "id": "0KnZ2jsQ5Y3U"
      }
    },
    {
      "cell_type": "code",
      "source": [
        "diameter_values = df['diameter']\n",
        "albedo_values = df['albedo']\n",
        "\n",
        "plt.figure(figsize=(8, 6))\n",
        "plt.scatter(diameter_values, albedo_values, alpha=0.5)\n",
        "plt.xlabel('Diameter')\n",
        "plt.ylabel('Albedo')\n",
        "plt.title('Correlation between Diameter and Albedo')\n",
        "plt.show()"
      ],
      "metadata": {
        "colab": {
          "base_uri": "https://localhost:8080/",
          "height": 564
        },
        "id": "jyeokr1y5NpZ",
        "outputId": "41b57af6-5e9c-40ff-d586-ae8b9ef74b55"
      },
      "execution_count": 21,
      "outputs": [
        {
          "output_type": "display_data",
          "data": {
            "text/plain": [
              "<Figure size 800x600 with 1 Axes>"
            ],
            "image/png": "[encoded data removed]"
          },
          "metadata": {}
        }
      ]
    },
    {
      "cell_type": "markdown",
      "source": [
        "## **3.How many Near-Earth Objects (NEOs) are present in the dataset?**"
      ],
      "metadata": {
        "id": "y7uSdhBc6FwO"
      }
    },
    {
      "cell_type": "code",
      "source": [
        "neo_values = df['neo']\n",
        "\n",
        "neo_counts = neo_values.value_counts()\n",
        "labels = neo_counts.index\n",
        "counts = neo_counts.values\n",
        "\n",
        "plt.figure(figsize=(8, 6))\n",
        "plt.bar(labels, counts)\n",
        "plt.xlabel('NEO')\n",
        "plt.ylabel('Count')\n",
        "plt.title('Number of Near-Earth Objects (NEOs)')\n",
        "plt.show()"
      ],
      "metadata": {
        "colab": {
          "base_uri": "https://localhost:8080/",
          "height": 564
        },
        "id": "e5OPkqA_5moP",
        "outputId": "829e23b6-54aa-4dfb-ceb9-78f892410e38"
      },
      "execution_count": 22,
      "outputs": [
        {
          "output_type": "display_data",
          "data": {
            "text/plain": [
              "<Figure size 800x600 with 1 Axes>"
            ],
            "image/png": "[encoded data removed]"
          },
          "metadata": {}
        }
      ]
    },
    {
      "cell_type": "markdown",
      "source": [
        "## **4.What is the most common class of celestial bodies in the dataset?**"
      ],
      "metadata": {
        "id": "3f_jlwff7Amu"
      }
    },
    {
      "cell_type": "code",
      "source": [
        "class_counts = df['class'].value_counts()\n",
        "labels = class_counts.index\n",
        "counts = class_counts.values\n",
        "\n",
        "# Define a color palette for the bars\n",
        "color_palette = plt.cm.get_cmap('tab20')\n",
        "\n",
        "plt.figure(figsize=(8, 6))\n",
        "plt.bar(labels, counts, color=color_palette(np.arange(len(labels))))\n",
        "plt.xlabel('Class')\n",
        "plt.ylabel('Count')\n",
        "plt.title('Most Common Class of Celestial Bodies')\n",
        "plt.xticks(rotation=45)\n",
        "plt.show()"
      ],
      "metadata": {
        "colab": {
          "base_uri": "https://localhost:8080/",
          "height": 638
        },
        "id": "O-bFjjYD6Udm",
        "outputId": "80241cfd-8174-4ab9-dec6-4c4100aa10e9"
      },
      "execution_count": 23,
      "outputs": [
        {
          "output_type": "stream",
          "name": "stderr",
          "text": [
            "<ipython-input-23-8a8d00812ea0>:6: MatplotlibDeprecationWarning: The get_cmap function was deprecated in Matplotlib 3.7 and will be removed two minor releases later. Use ``matplotlib.colormaps[name]`` or ``matplotlib.colormaps.get_cmap(obj)`` instead.\n",
            "  color_palette = plt.cm.get_cmap('tab20')\n"
          ]
        },
        {
          "output_type": "display_data",
          "data": {
            "text/plain": [
              "<Figure size 800x600 with 1 Axes>"
            ],
            "image/png": "[encoded data removed]"
          },
          "metadata": {}
        }
      ]
    },
    {
      "cell_type": "markdown",
      "source": [
        "## **5.Are there any outliers in the \"H\" (absolute magnitude) column?**"
      ],
      "metadata": {
        "id": "o27tgElM7YWV"
      }
    },
    {
      "cell_type": "code",
      "source": [
        "H_values = df['H']\n",
        "\n",
        "plt.figure(figsize=(8, 6))\n",
        "sns.boxplot(x=H_values, color='skyblue')\n",
        "plt.xlabel('H (Absolute Magnitude)')\n",
        "plt.title('Outliers in H (Absolute Magnitude)')\n",
        "plt.show()"
      ],
      "metadata": {
        "colab": {
          "base_uri": "https://localhost:8080/",
          "height": 564
        },
        "id": "48uIyVAN6tMD",
        "outputId": "ae7640d1-4d21-4c7c-dfb2-b9564238a256"
      },
      "execution_count": 24,
      "outputs": [
        {
          "output_type": "display_data",
          "data": {
            "text/plain": [
              "<Figure size 800x600 with 1 Axes>"
            ],
            "image/png": "[encoded data removed]"
          },
          "metadata": {}
        }
      ]
    },
    {
      "cell_type": "markdown",
      "source": [
        "## **6.How does the average diameter vary across different classes of celestial bodies?**"
      ],
      "metadata": {
        "id": "JKN_xD0s8D-C"
      }
    },
    {
      "cell_type": "code",
      "source": [
        "class_average_diameter = df.groupby('class')['diameter'].mean().sort_values(ascending=False)\n",
        "\n",
        "plt.figure(figsize=(10, 6))\n",
        "sns.barplot(x=class_average_diameter.index, y=class_average_diameter.values, palette='viridis')\n",
        "plt.xlabel('Class')\n",
        "plt.ylabel('Average Diameter')\n",
        "plt.title('Average Diameter Across Different Classes of Celestial Bodies')\n",
        "plt.xticks(rotation=45)\n",
        "plt.show()"
      ],
      "metadata": {
        "colab": {
          "base_uri": "https://localhost:8080/",
          "height": 583
        },
        "id": "srmUe59p7RqV",
        "outputId": "76f627d9-c9a3-41c0-ad2b-79a69cc9e77e"
      },
      "execution_count": 25,
      "outputs": [
        {
          "output_type": "display_data",
          "data": {
            "text/plain": [
              "<Figure size 1000x600 with 1 Axes>"
            ],
            "image/png": "[encoded data removed]"
          },
          "metadata": {}
        }
      ]
    },
    {
      "cell_type": "markdown",
      "source": [
        "After analyzing the dataset, the following findings were observed:\n",
        "\n",
        "1. The overall distribution of the \"diameter\" values in the dataset reveals a range of sizes, with some smaller and larger celestial bodies present. The exact distribution can be visualized using a histogram or density plot.\n",
        "\n",
        "2. There is a need to explore further to determine if there is a correlation between the \"diameter\" and \"albedo\" columns. Additional analysis, such as calculating correlation coefficients or creating scatter plots, can provide insights into the relationship between these two attributes.\n",
        "\n",
        "3. The dataset contains a certain number of Near-Earth Objects (NEOs). The exact count of NEOs can be obtained by filtering the dataset based on the NEO classification.\n",
        "\n",
        "4. The most common class of celestial bodies in the dataset can be identified by analyzing the frequency counts of different classes. The class with the highest count represents the most common class.\n",
        "\n",
        "5. Outliers are typically identified in the \"H\" (absolute magnitude) column using box plots. Outliers are data points that fall outside the whiskers of the box plot, indicating extreme values in the dataset.\n",
        "\n",
        "6. The average diameter varies across different classes of celestial bodies. By calculating the mean diameter for each class, it is possible to observe variations in size among different types of celestial bodies.\n",
        "\n",
        "In conclusion, the dataset provides insights into the distribution of diameter values, potential correlations between diameter and albedo, the presence of NEOs, the most common class of celestial bodies, the presence of outliers in the absolute magnitude column, and variations in average diameter across different classes. These findings contribute to a better understanding of the characteristics and classifications of celestial bodies in the dataset."
      ],
      "metadata": {
        "id": "HT13ws1WVLYy"
      }
    }
  ]
}